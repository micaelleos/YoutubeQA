{
 "cells": [
  {
   "cell_type": "markdown",
   "metadata": {},
   "source": [
    "### Loading transcript"
   ]
  },
  {
   "cell_type": "code",
   "execution_count": null,
   "metadata": {},
   "outputs": [],
   "source": []
  },
  {
   "cell_type": "code",
   "execution_count": 3,
   "metadata": {},
   "outputs": [],
   "source": [
    "__import__('pysqlite3')\n",
    "import sys\n",
    "sys.modules['sqlite3'] = sys.modules.pop('pysqlite3')\n",
    "import os\n",
    "import shutil\n",
    "from youtube_transcript_api import YouTubeTranscriptApi\n",
    "from youtube_transcript_api.formatters import TextFormatter, WebVTTFormatter, SRTFormatter\n",
    "from langchain_openai import OpenAIEmbeddings\n",
    "from langchain_chroma import Chroma\n",
    "from langchain_core.vectorstores import InMemoryVectorStore\n",
    "import chromadb\n",
    "from langchain_core.tools import tool\n",
    "from langchain_core.documents import Document\n",
    "from chromadb.config import Settings\n",
    "import streamlit as st\n",
    "import tempfile"
   ]
  },
  {
   "cell_type": "code",
   "execution_count": 4,
   "metadata": {},
   "outputs": [],
   "source": [
    "def get_youtube_transcription(video_url, language_code=['pt']):\n",
    "  # Extrair o ID do vídeo a partir do URL\n",
    "  video_id = video_url.split(\"v=\")[-1]\n",
    "  if \"&\" in video_id:\n",
    "      video_id = video_id.split(\"&\")[0]\n",
    "  # Obter a transcrição no idioma especificado\n",
    "  transcript = YouTubeTranscriptApi.get_transcript(video_id,languages=language_code)\n",
    "  return transcript\n",
    "\n",
    "\n",
    "def format_transcript(transcript):\n",
    "  tempo = 0\n",
    "  formated_list = []\n",
    "  frase = \"\"\n",
    "  for t in transcript:\n",
    "    tempo += t['duration']\n",
    "    frase += t['text']\n",
    "    if tempo >= 300:\n",
    "      formated_list.append({\"text\":frase,\"start\":tempo})\n",
    "      tempo = 0\n",
    "      frase = \"\"\n",
    "    formated_list.append({\"text\":frase,\"start\":round(tempo)})\n",
    "  return formated_list\n",
    "\n",
    "def format_doc(docs,link):\n",
    "  formated_docs = []\n",
    "  for doc in docs:\n",
    "    link_tempo = link + \"&t=\" + str(doc[\"start\"]) + \"s\"\n",
    "    document = Document(\n",
    "            page_content=doc['text'],\n",
    "            metadata={\"source\": link_tempo,\"time\":doc[\"start\"]}\n",
    "        )\n",
    "    formated_docs.append(document)\n",
    "  return formated_docs"
   ]
  },
  {
   "cell_type": "code",
   "execution_count": 5,
   "metadata": {},
   "outputs": [],
   "source": [
    "def vector_store():\n",
    "  embeddings = OpenAIEmbeddings(model=\"text-embedding-3-large\", api_key=os.environ[\"OPEN_API_KEY\"])\n",
    "  vectorstore = InMemoryVectorStore(embeddings)\n",
    "  return vectorstore"
   ]
  },
  {
   "cell_type": "code",
   "execution_count": 6,
   "metadata": {},
   "outputs": [],
   "source": [
    "def load_doc_to_db(doc_splits):\n",
    "  embeddings = OpenAIEmbeddings(model=\"text-embedding-3-large\",api_key=os.environ[\"OPEN_API_KEY\"])\n",
    "  db = vector_store()\n",
    "  # Add to vectorDB\n",
    "  db.from_documents(embedding=embeddings,documents=doc_splits)\n",
    "  print(\"loaded\")"
   ]
  },
  {
   "cell_type": "code",
   "execution_count": 7,
   "metadata": {},
   "outputs": [],
   "source": [
    "def load_doc_pipeline(link,language_code='pt'):\n",
    "  transcript = get_youtube_transcription(link)\n",
    "  formated_list = format_transcript(transcript)\n",
    "  doc_splits = format_doc(formated_list,link)\n",
    "  print(doc_splits)\n",
    "  load_doc_to_db(doc_splits)\n",
    "  print(\"video loaded\")"
   ]
  },
  {
   "cell_type": "code",
   "execution_count": 8,
   "metadata": {},
   "outputs": [
    {
     "ename": "KeyError",
     "evalue": "'OPEN_API_KEY'",
     "output_type": "error",
     "traceback": [
      "\u001b[0;31m---------------------------------------------------------------------------\u001b[0m",
      "\u001b[0;31mKeyError\u001b[0m                                  Traceback (most recent call last)",
      "Cell \u001b[0;32mIn[8], line 1\u001b[0m\n\u001b[0;32m----> 1\u001b[0m teste \u001b[38;5;241m=\u001b[39m \u001b[43mvector_store\u001b[49m\u001b[43m(\u001b[49m\u001b[43m)\u001b[49m\n",
      "Cell \u001b[0;32mIn[5], line 2\u001b[0m, in \u001b[0;36mvector_store\u001b[0;34m()\u001b[0m\n\u001b[1;32m      1\u001b[0m \u001b[38;5;28;01mdef\u001b[39;00m \u001b[38;5;21mvector_store\u001b[39m():\n\u001b[0;32m----> 2\u001b[0m   embeddings \u001b[38;5;241m=\u001b[39m OpenAIEmbeddings(model\u001b[38;5;241m=\u001b[39m\u001b[38;5;124m\"\u001b[39m\u001b[38;5;124mtext-embedding-3-large\u001b[39m\u001b[38;5;124m\"\u001b[39m, api_key\u001b[38;5;241m=\u001b[39m\u001b[43mos\u001b[49m\u001b[38;5;241;43m.\u001b[39;49m\u001b[43menviron\u001b[49m\u001b[43m[\u001b[49m\u001b[38;5;124;43m\"\u001b[39;49m\u001b[38;5;124;43mOPEN_API_KEY\u001b[39;49m\u001b[38;5;124;43m\"\u001b[39;49m\u001b[43m]\u001b[49m)\n\u001b[1;32m      3\u001b[0m   vectorstore \u001b[38;5;241m=\u001b[39m InMemoryVectorStore(embeddings)\n\u001b[1;32m      4\u001b[0m   \u001b[38;5;28;01mreturn\u001b[39;00m vectorstore\n",
      "File \u001b[0;32m<frozen os>:685\u001b[0m, in \u001b[0;36m__getitem__\u001b[0;34m(self, key)\u001b[0m\n",
      "\u001b[0;31mKeyError\u001b[0m: 'OPEN_API_KEY'"
     ]
    }
   ],
   "source": [
    "teste = vector_store()"
   ]
  }
 ],
 "metadata": {
  "kernelspec": {
   "display_name": "myenv",
   "language": "python",
   "name": "python3"
  },
  "language_info": {
   "codemirror_mode": {
    "name": "ipython",
    "version": 3
   },
   "file_extension": ".py",
   "mimetype": "text/x-python",
   "name": "python",
   "nbconvert_exporter": "python",
   "pygments_lexer": "ipython3",
   "version": "3.12.1"
  }
 },
 "nbformat": 4,
 "nbformat_minor": 2
}
