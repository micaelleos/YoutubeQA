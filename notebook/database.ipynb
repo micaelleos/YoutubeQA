{
 "cells": [
  {
   "cell_type": "code",
   "execution_count": 4,
   "metadata": {},
   "outputs": [],
   "source": [
    "__import__('pysqlite3')\n",
    "import sys\n",
    "sys.modules['sqlite3'] = sys.modules.pop('pysqlite3')\n",
    "import os\n",
    "import shutil\n",
    "from youtube_transcript_api import YouTubeTranscriptApi\n",
    "from youtube_transcript_api.formatters import TextFormatter, WebVTTFormatter, SRTFormatter\n",
    "from langchain_openai import OpenAIEmbeddings\n",
    "from langchain_chroma import Chroma\n",
    "import chromadb\n",
    "from langchain_core.tools import tool\n",
    "from langchain_core.documents import Document\n",
    "\n",
    "\n",
    "PERSIST_DIR ='chroma/'\n"
   ]
  },
  {
   "cell_type": "code",
   "execution_count": 5,
   "metadata": {},
   "outputs": [],
   "source": [
    "\n",
    "def get_youtube_transcription(video_url, language_code=['pt']):\n",
    "  # Extrair o ID do vídeo a partir do URL\n",
    "  video_id = video_url.split(\"v=\")[-1]\n",
    "  if \"&\" in video_id:\n",
    "      video_id = video_id.split(\"&\")[0]\n",
    "  # Obter a transcrição no idioma especificado\n",
    "  transcript = YouTubeTranscriptApi.get_transcript(video_id,languages=language_code)\n",
    "  return transcript\n",
    "\n",
    "\n",
    "def format_transcript(transcript):\n",
    "  tempo = 0\n",
    "  formated_list = []\n",
    "  frase = \"\"\n",
    "  for t in transcript:\n",
    "    tempo += t['duration']\n",
    "    frase += t['text']\n",
    "    if tempo >= 300:\n",
    "      formated_list.append({\"text\":frase,\"start\":tempo})\n",
    "      tempo = 0\n",
    "      frase = \"\"\n",
    "    formated_list.append({\"text\":frase,\"start\":round(tempo)})\n",
    "  return formated_list\n",
    "\n",
    "def format_doc(docs,link):\n",
    "  formated_docs = []\n",
    "  for doc in docs:\n",
    "    link_tempo = link + \"&t=\" + str(doc[\"start\"]) + \"s\"\n",
    "    document = Document(\n",
    "            page_content=doc['text'],\n",
    "            metadata={\"source\": link_tempo,\"time\":doc[\"start\"]}\n",
    "        )\n",
    "    formated_docs.append(document)\n",
    "  return formated_docs\n"
   ]
  },
  {
   "cell_type": "code",
   "execution_count": 10,
   "metadata": {},
   "outputs": [],
   "source": [
    "def vector_store():\n",
    "  embeddings = OpenAIEmbeddings(model=\"text-embedding-3-large\", api_key=OPEN_API_KEY)\n",
    "  persistent_client = chromadb.PersistentClient(path=PERSIST_DIR)\n",
    "  vectorstore = Chroma(client=persistent_client,\n",
    "                                  collection_name=\"rag-chroma\",\n",
    "                                  embedding_function=embeddings,\n",
    "                                  )\n",
    "  return vectorstore"
   ]
  },
  {
   "cell_type": "code",
   "execution_count": 11,
   "metadata": {},
   "outputs": [],
   "source": [
    "def load_doc_to_db(doc_splits):\n",
    "  embeddings = OpenAIEmbeddings(model=\"text-embedding-3-large\",api_key=OPEN_API_KEY)\n",
    "  db = vector_store()\n",
    "  # Add to vectorDB\n",
    "  db.from_documents(\n",
    "      documents=doc_splits,\n",
    "      collection_name=\"rag-chroma\",\n",
    "      embedding=embeddings\n",
    "  )\n",
    "\n",
    "def load_doc_pipeline(link,language_code='pt'):\n",
    "  transcript = get_youtube_transcription(link)\n",
    "  formated_list = format_transcript(transcript)\n",
    "  doc_splits = format_doc(formated_list,link)\n",
    "  load_doc_to_db(doc_splits)\n",
    "  print(\"video loaded\")"
   ]
  },
  {
   "cell_type": "code",
   "execution_count": 12,
   "metadata": {},
   "outputs": [],
   "source": [
    "test = vector_store()"
   ]
  }
 ],
 "metadata": {
  "kernelspec": {
   "display_name": "myenv",
   "language": "python",
   "name": "python3"
  },
  "language_info": {
   "codemirror_mode": {
    "name": "ipython",
    "version": 3
   },
   "file_extension": ".py",
   "mimetype": "text/x-python",
   "name": "python",
   "nbconvert_exporter": "python",
   "pygments_lexer": "ipython3",
   "version": "3.12.1"
  }
 },
 "nbformat": 4,
 "nbformat_minor": 2
}
